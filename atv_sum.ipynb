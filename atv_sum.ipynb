{
  "nbformat": 4,
  "nbformat_minor": 0,
  "metadata": {
    "colab": {
      "provenance": [],
      "collapsed_sections": [],
      "authorship_tag": "ABX9TyNP1fR8zH0NLG9g4SDydRU1"
    },
    "kernelspec": {
      "name": "python3",
      "display_name": "Python 3"
    },
    "language_info": {
      "name": "python"
    }
  },
  "cells": [
    {
      "cell_type": "code",
      "execution_count": null,
      "metadata": {
        "id": "vElzF-BsatbA"
      },
      "outputs": [],
      "source": [
        "from threading import Thread\n",
        "\n",
        "NUM_THREAD = 4\n",
        "\n",
        "params = [(1, 250000), (250001, 500000), (500001, 750000), (750001, 1000000)]\n",
        "\n",
        "\n",
        "def run(start, end, result):\n",
        "    total = sum(range(start, end+1))\n",
        "    result.append(total)\n",
        "\n",
        "\n",
        "if __name__ == \"__main__\":\n",
        "    threads = []\n",
        "    result = []\n",
        "    for i in range(NUM_THREAD):\n",
        "        print(*params[i])\n",
        "        t = Thread(target=run, args=(*params[i], result))\n",
        "        threads.append(t)\n",
        "        t.start()\n",
        "    for t in threads:\n",
        "        t.join()\n",
        "    print(sum(result))\n"
      ]
    }
  ]
}